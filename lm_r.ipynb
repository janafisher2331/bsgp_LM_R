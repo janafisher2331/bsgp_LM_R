{
 "cells": [
  {
   "cell_type": "markdown",
   "id": "75dd0523-ff7e-4719-a245-e57b5ee60269",
   "metadata": {},
   "source": [
    "# Linear Modeling in R"
   ]
  }
 ],
 "metadata": {
  "kernelspec": {
   "display_name": "R",
   "language": "R",
   "name": "ir"
  },
  "language_info": {
   "codemirror_mode": "r",
   "file_extension": ".r",
   "mimetype": "text/x-r-source",
   "name": "R",
   "pygments_lexer": "r",
   "version": "4.0.5"
  }
 },
 "nbformat": 4,
 "nbformat_minor": 5
}
